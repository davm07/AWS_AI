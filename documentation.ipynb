{
 "cells": [
  {
   "cell_type": "markdown",
   "metadata": {},
   "source": [
    "## Exercise: Readable Time for Data Processing\n",
    "### Scenario:\n",
    "You are optimizing a machine learning pipeline, and you need to report the processing time of a dataset in a human-readable format. The time is provided in days, and you need to convert it to weeks and days to better communicate the processing schedule to the stakeholders.\n",
    "\n",
    "### Task:\n",
    "Write a function named readable_processing_time. The function should take one argument, an integer days, and return a string that says how many weeks and days that is."
   ]
  },
  {
   "cell_type": "code",
   "execution_count": null,
   "metadata": {},
   "outputs": [],
   "source": [
    "def readable_processing_time(days):\n",
    "    \"\"\"\n",
    "    Convert a number of days into a readable string format of weeks and days.\n",
    "\n",
    "    This function takes an integer number of days and converts it into a\n",
    "    human-readable string format that shows how many full weeks and remaining\n",
    "    days are contained within that number of days. This is particularly useful\n",
    "    for reporting processing times in machine learning projects, making the\n",
    "    duration easier to understand for stakeholders.\n",
    "\n",
    "    Parameters:\n",
    "    days (int): The total number of days to be converted.\n",
    "\n",
    "    Returns:\n",
    "    str: A string representing the number of weeks and days.\n",
    "    \n",
    "    Example:\n",
    "    >>> readable_processing_time(10)\n",
    "    '1 week(s) and 3 day(s)'\n",
    "    \"\"\"\n",
    "    weeks = days // 7\n",
    "    remainder = days % 7\n",
    "    return \"{} week(s) and {} day(s)\".format(weeks, remainder)\n",
    "\n",
    "### Notebook grading\n",
    "import inspect\n",
    "if 'readable_processing_time' not in locals():\n",
    "    print(\"Your code doesn't define the `readable_processing_time` function.\")\n",
    "elif inspect.getdoc(readable_processing_time) is None:\n",
    "    print(\"Your function doesn't have a docstring! Add one that explains the function's purpose.\")\n",
    "else:\n",
    "    print(\"Nicely done! You can view my solution on the next page.\")\n"
   ]
  }
 ],
 "metadata": {
  "kernelspec": {
   "display_name": "Python 3 (ipykernel)",
   "language": "python",
   "name": "python3"
  },
  "language_info": {
   "codemirror_mode": {
    "name": "ipython",
    "version": 3
   },
   "file_extension": ".py",
   "mimetype": "text/x-python",
   "name": "python",
   "nbconvert_exporter": "python",
   "pygments_lexer": "ipython3",
   "version": "3.10.13"
  }
 },
 "nbformat": 4,
 "nbformat_minor": 2
}
