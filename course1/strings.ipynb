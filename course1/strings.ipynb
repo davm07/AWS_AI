{
 "cells": [
  {
   "cell_type": "markdown",
   "id": "729891d8",
   "metadata": {},
   "source": [
    "## Quiz 3: Preparing Text for Named Entity Recognition (NER)\n",
    "\n",
    "Named Entity Recognition (NER) is a subtask of information extraction that seeks to locate and classify named entities in text into predefined categories such as the names of persons, organizations, locations, expressions of times, quantities, monetary values, percentages, etc. Preparing text data for NER involves ensuring that the text strings fit within specified limits and are correctly formatted.\n",
    "\n",
    "### Scenario:\n",
    "You are preparing text data for a Named Entity Recognition (NER) task. You need to ensure that the full name of a person fits within a specified character limit for a named entity.\n",
    "\n",
    "### Task:\n",
    "Use string concatenation and the `len()` function to find the length of the given name, including spaces. Store the length in the variable `name_length`."
   ]
  },
  {
   "cell_type": "code",
   "execution_count": 1,
   "id": "c4c9799d",
   "metadata": {},
   "outputs": [
    {
     "name": "stdout",
     "output_type": "stream",
     "text": [
      "True\n",
      "Good job!\n"
     ]
    }
   ],
   "source": [
    "given_name = \"William\"\n",
    "middle_names = \"Bradley\"\n",
    "family_name = \"Pitt\"\n",
    "\n",
    "\n",
    "name_length = len(given_name) + len(middle_names) + len(family_name) + 2  # Add 2 for the spaces between the names\n",
    "\n",
    "# Now we check to make sure that the name fits within the named entity character limit\n",
    "# Uncomment the code below. You don't need to make changes to the code.\n",
    "\n",
    "named_entity_character_limit = 28\n",
    "print(name_length <= named_entity_character_limit)\n",
    "\n",
    "### Notebook grading\n",
    "if name_length == 20:\n",
    "    print(\"Good job!\")\n",
    "elif name_length == 18:\n",
    "    print(\"Your result doesn't match the solution. Did you remember to count for the spaces between each part of the name?\")\n",
    "else:\n",
    "    print(\"Your result doesn't match the solution. Double check your code.\")"
   ]
  }
 ],
 "metadata": {
  "kernelspec": {
   "display_name": "Python 3",
   "language": "python",
   "name": "python3"
  },
  "language_info": {
   "codemirror_mode": {
    "name": "ipython",
    "version": 3
   },
   "file_extension": ".py",
   "mimetype": "text/x-python",
   "name": "python",
   "nbconvert_exporter": "python",
   "pygments_lexer": "ipython3",
   "version": "3.13.0"
  }
 },
 "nbformat": 4,
 "nbformat_minor": 5
}
