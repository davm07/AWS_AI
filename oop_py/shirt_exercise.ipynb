{
 "cells": [
  {
   "cell_type": "markdown",
   "metadata": {},
   "source": [
    "# Use the Shirt Class\n",
    "\n",
    "You've seen what a class looks like and how to instantiate an object. Now it's your turn to write code that insantiates a shirt object.\n",
    "\n",
    "# Explanation of the Code\n",
    "\n",
    "This Jupyter Notebook is located in a folder called /`cd0184`/`ls12011`/`exercise-oop-syntax-practice-part-1`. You can access this folder by clicking the **Jupyter** logo at the top of the notebook. Inside the folder, you’ll find the following three files:\n",
    "\n",
    "- `shirt_exercise.ipynb`, which is the file you are currently looking at\n",
    "- `answer.py` containing answers to the exercise\n",
    "- `tests.py`, tests for checking your code - you can run these tests using the last code cell at the bottom of this notebook\n",
    "\n",
    "# Your Task\n",
    "The `shirt_exercise.ipynb` file, which you are currently looking at if you are reading this, has an exercise to help guide you through coding with an object in Python.\n",
    "\n",
    "Fill out the TODOs in each section of the Jupyter notebook. You can find a solution in the `answer.py` file.\n",
    "\n",
    "First, run this code cell below to load the `Shirt` class."
   ]
  },
  {
   "cell_type": "code",
   "execution_count": 22,
   "metadata": {},
   "outputs": [],
   "source": [
    "class Shirt:\n",
    "\n",
    "    def __init__(self, shirt_color, shirt_size, shirt_style, shirt_price):\n",
    "        self.color = shirt_color\n",
    "        self.size = shirt_size\n",
    "        self.style = shirt_style\n",
    "        self.price = shirt_price\n",
    "\n",
    "    def change_price(self, new_price):\n",
    "\n",
    "        self.price = new_price\n",
    "\n",
    "    def discount(self, discount):\n",
    "\n",
    "        return self.price * (1 - discount)"
   ]
  },
  {
   "cell_type": "code",
   "execution_count": 23,
   "metadata": {},
   "outputs": [],
   "source": [
    "### TODO:\n",
    "#    - instantiate a shirt object with the following characteristics:\n",
    "#        - color red, size S, style long-sleeve, and price 25\n",
    "#    - store the object in a variable called shirt_one\n",
    "#\n",
    "#\n",
    "###\n",
    "shirt_one = Shirt(\"red\", \"S\", \"long-sleeve\", 25)"
   ]
  },
  {
   "cell_type": "code",
   "execution_count": 24,
   "metadata": {},
   "outputs": [
    {
     "name": "stdout",
     "output_type": "stream",
     "text": [
      "25\n",
      "10\n"
     ]
    },
    {
     "data": {
      "text/plain": [
       "8.8"
      ]
     },
     "execution_count": 24,
     "metadata": {},
     "output_type": "execute_result"
    }
   ],
   "source": [
    "### TODO:\n",
    "#     - print the price of the shirt using the price attribute\n",
    "#     - use the change_price method to change the price of the shirt to 10\n",
    "#     - print the price of the shirt using the price attribute\n",
    "#     - use the discount method to print the price of the shirt with a 12% discount\n",
    "#\n",
    "###\n",
    "print(shirt_one.price)\n",
    "shirt_one.change_price(10)\n",
    "print(shirt_one.price)\n",
    "shirt_one.discount(0.12)"
   ]
  },
  {
   "cell_type": "code",
   "execution_count": 25,
   "metadata": {},
   "outputs": [],
   "source": [
    "### TODO:\n",
    "#\n",
    "#    - instantiate another object with the following characteristics:\n",
    "#        - color orange, size L, style short-sleeve, and price 10\n",
    "#    - store the object in a variable called shirt_two\n",
    "#\n",
    "###\n",
    "shirt_two = Shirt('orange', 'L', 'short-sleeve', 10)"
   ]
  },
  {
   "cell_type": "code",
   "execution_count": 26,
   "metadata": {},
   "outputs": [],
   "source": [
    "### TODO:\n",
    "#\n",
    "#    - calculate the total cost of shirt_one and shirt_two\n",
    "#    - store the results in a variable called total\n",
    "#\n",
    "###\n",
    "total = shirt_one.price + shirt_two.price"
   ]
  },
  {
   "cell_type": "code",
   "execution_count": 27,
   "metadata": {},
   "outputs": [],
   "source": [
    "### TODO:\n",
    "#\n",
    "#    - use the shirt discount method to calculate the total cost if\n",
    "#       shirt_one has a discount of 14% and shirt_two has a discount\n",
    "#       of 6%\n",
    "#    - store the results in a variable called total_discounted\n",
    "###\n",
    "total_discounted = shirt_one.discount(0.14) + shirt_two.discount(0.06)"
   ]
  },
  {
   "cell_type": "markdown",
   "metadata": {},
   "source": [
    "# Test Your Code\n",
    "\n",
    "\n",
    "The following code cell tests your code. \n",
    "\n",
    "There is a file called `tests.py` containing a function called `run_tests()`. The `run_tests()` function executes a handful of assert statements to check your work. You can see this file if you go to the Jupyter Notebook menu and click on **File → Open** and then open the `tests.py` file.\n",
    "\n",
    "Execute the next code cell. The code will produce an error if your answers in this exercise are not what was expected. Keep working on your code until all tests are passed.\n",
    "\n",
    "If you run the code cell and there is no output, then you passed all the tests!\n",
    "\n",
    "Additionally, as mentioned earlier, there is a solution file available. To access it, click the Jupyter logo at the top of the workspace, navigate to the /`cd0184`/`ls12011`/`exercise-oop-syntax-practice-part-1` folder, and open the solution file."
   ]
  },
  {
   "cell_type": "code",
   "execution_count": 28,
   "metadata": {},
   "outputs": [],
   "source": [
    "# Unit tests to check your solution\n",
    "from tests import run_tests\n",
    "\n",
    "run_tests(shirt_one, shirt_two, total, total_discounted)"
   ]
  },
  {
   "cell_type": "code",
   "execution_count": null,
   "metadata": {},
   "outputs": [],
   "source": []
  }
 ],
 "metadata": {
  "kernelspec": {
   "display_name": "Python 3",
   "language": "python",
   "name": "python3"
  },
  "language_info": {
   "codemirror_mode": {
    "name": "ipython",
    "version": 3
   },
   "file_extension": ".py",
   "mimetype": "text/x-python",
   "name": "python",
   "nbconvert_exporter": "python",
   "pygments_lexer": "ipython3",
   "version": "3.13.0"
  }
 },
 "nbformat": 4,
 "nbformat_minor": 2
}
