{
 "cells": [
  {
   "cell_type": "markdown",
   "metadata": {},
   "source": [
    "## Exercise 1: Count Image Batches\n",
    "\n",
    "In this exercise, you'll simulate processing batches of images in a machine learning model. You'll start from a given number of images and process them in batches until all images are processed. Use `processed_images` as the variable that you'll change each time through the loop.\n",
    "\n",
    "**Example Input**:\n",
    "```python\n",
    "total_images = 100\n",
    "batch_size = 20\n",
    "```\n",
    "\n",
    "**Example Output**:\n",
    "```python\n",
    "processed_images = 100\n",
    "```"
   ]
  },
  {
   "cell_type": "code",
   "execution_count": 7,
   "metadata": {},
   "outputs": [
    {
     "name": "stdout",
     "output_type": "stream",
     "text": [
      "Good job!\n"
     ]
    }
   ],
   "source": [
    "total_images = 100\n",
    "batch_size = 20\n",
    "\n",
    "processed_images = 0\n",
    "while processed_images < total_images:\n",
    "    processed_images += batch_size\n",
    "    \n",
    "### Notebook grading\n",
    "def get_solution(total_images, batch_size):\n",
    "    processed_images = 0\n",
    "    while processed_images < total_images:\n",
    "        processed_images += batch_size\n",
    "    return processed_images\n",
    "\n",
    "correct = get_solution(total_images, batch_size)\n",
    "\n",
    "if processed_images == correct:\n",
    "    print(\"Good job!\")\n",
    "else:\n",
    "    print(\"Oops! It doesn't look like the expected answer.\")"
   ]
  },
  {
   "cell_type": "markdown",
   "metadata": {},
   "source": [
    "## Exercise 2: Validate Batch Processing\n",
    "\n",
    "In this exercise, you'll validate that your batch processing function works correctly and handle the case where the number of images to process is less than the batch size.\n",
    "\n",
    "**Example Input**:\n",
    "```python\n",
    "total_images = 100\n",
    "batch_size = 20\n",
    "```\n",
    "\n",
    "**Example Output**:\n",
    "```python\n",
    "result = 100\n",
    "```\n",
    "\n",
    "**Example Input with total_images < batch_size**:\n",
    "```python\n",
    "total_images = 10\n",
    "batch_size = 20\n",
    "```\n",
    "\n",
    "**Example Output**:\n",
    "```python\n",
    "result = 10\n",
    "```"
   ]
  },
  {
   "cell_type": "code",
   "execution_count": 9,
   "metadata": {},
   "outputs": [
    {
     "name": "stdout",
     "output_type": "stream",
     "text": [
      "Good job!\n"
     ]
    }
   ],
   "source": [
    "total_images = 100\n",
    "batch_size = 20\n",
    "\n",
    "if total_images < batch_size:\n",
    "    result = total_images\n",
    "else:\n",
    "    processed_images = 0\n",
    "    while processed_images < total_images:\n",
    "        processed_images += batch_size\n",
    "        result = processed_images\n",
    "\n",
    "### Notebook grading\n",
    "def get_solution(total_images, batch_size):\n",
    "    if total_images < batch_size:\n",
    "        return total_images\n",
    "    else:\n",
    "        processed_images = 0\n",
    "        while processed_images < total_images:\n",
    "            processed_images += batch_size\n",
    "        return processed_images\n",
    "\n",
    "correct_ans = get_solution(total_images, batch_size)\n",
    "\n",
    "if result == correct_ans:\n",
    "    print(\"Good job!\")\n",
    "else:\n",
    "    print(\"Oops! It doesn't look like the expected answer.\")"
   ]
  },
  {
   "cell_type": "markdown",
   "metadata": {},
   "source": [
    "## Exercise 3: Find Nearest Batch Size\n",
    "\n",
    "In this exercise, you'll write a while loop that finds the largest batch size (a perfect square less than an integer `limit`) and stores it in a variable `nearest_batch`. A batch size is the product of an integer multiplied by itself, for example 36 is a perfect batch size because it equals 6*6.\n",
    "\n",
    "**Example Input**:\n",
    "```python\n",
    "limit = 50\n",
    "```\n",
    "\n",
    "**Example Output**:\n",
    "```python\n",
    "nearest_batch = 36\n",
    "```"
   ]
  },
  {
   "cell_type": "code",
   "execution_count": 10,
   "metadata": {},
   "outputs": [
    {
     "name": "stdout",
     "output_type": "stream",
     "text": [
      "Good job!\n"
     ]
    }
   ],
   "source": [
    "limit = 50\n",
    "nearest_batch = 0\n",
    "current_value = 0\n",
    "\n",
    "# TODO\n",
    "while (current_value + 1)**2 < limit:\n",
    "    current_value += 1\n",
    "    nearest_batch = current_value**2\n",
    "\n",
    "### Notebook grading\n",
    "def get_solution(limit):\n",
    "    current_value = 0\n",
    "    while (current_value + 1)**2 < limit:\n",
    "        current_value += 1\n",
    "        nearest_batch = current_value**2\n",
    "    return nearest_batch\n",
    "\n",
    "correct_ans = get_solution(limit)\n",
    "\n",
    "if nearest_batch == correct_ans:\n",
    "    print(\"Good job!\")\n",
    "else:\n",
    "    print(\"Not quite. Did you assign your result to `nearest_batch`?\")"
   ]
  },
  {
   "cell_type": "code",
   "execution_count": null,
   "metadata": {},
   "outputs": [],
   "source": []
  }
 ],
 "metadata": {
  "kernelspec": {
   "display_name": "Python 3 (ipykernel)",
   "language": "python",
   "name": "python3"
  },
  "language_info": {
   "codemirror_mode": {
    "name": "ipython",
    "version": 3
   },
   "file_extension": ".py",
   "mimetype": "text/x-python",
   "name": "python",
   "nbconvert_exporter": "python",
   "pygments_lexer": "ipython3",
   "version": "3.10.13"
  }
 },
 "nbformat": 4,
 "nbformat_minor": 2
}
