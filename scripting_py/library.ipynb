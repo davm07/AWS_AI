{
 "cells": [
  {
   "cell_type": "markdown",
   "metadata": {
    "grader_id": "qd27teblbnm"
   },
   "source": [
    "## Quiz: Compute an Exponent\n",
    "\n",
    "### Scenario:\n",
    "Imagine you are developing an AI model that uses exponential growth to predict the increase in data storage needs over time. To do this, you need to calculate e raised to a certain power.\n",
    "\n",
    "### Task:\n",
    "It's your turn to import and use the `math` module. Use the `math` module to calculate `e` to the power of `3`. And assign the answer to `result`.\n",
    "\n",
    "Refer to the [math module's documentation](https://docs.python.org/3.6/library/math.html?highlight=math%20module#module-math) to find the function you need!"
   ]
  },
  {
   "cell_type": "code",
   "execution_count": 1,
   "metadata": {
    "grader_id": "v4d7qgkduxb"
   },
   "outputs": [
    {
     "name": "stdout",
     "output_type": "stream",
     "text": [
      "Nice job!\n"
     ]
    }
   ],
   "source": [
    "# calculate e to the power of 3 using the math module\n",
    "\n",
    "### Notebook grading\n",
    "import math\n",
    "result = math.exp(3)\n",
    "correct = math.exp(3)\n",
    "\n",
    "if round(result,12) == round(correct,12):\n",
    "    print(\"Nice job!\")\n",
    "else:\n",
    "    print(\"Your code produced the wrong result. Expected answer is `20.085536923187668`.\")"
   ]
  },
  {
   "cell_type": "markdown",
   "metadata": {
    "grader_id": "rfj7u2hqag"
   },
   "source": [
    "## Quiz: Password Generator\n",
    "\n",
    "### Scenario:\n",
    "As part of securing an AI system, you need to generate strong, memorable passwords for accessing the system. These passwords should be created by concatenating three random words from a list.\n",
    "\n",
    "### Task:\n",
    "\n",
    "Write a function called `generate_password` that selects three random words from the list of words `word_list` and concatenates them into a single string. Your function should not accept any arguments and should reference the global variable `word_list` to build the password.\n",
    "To help with this, check out the `choice` function associated with the `random` module in the Standard Library."
   ]
  },
  {
   "cell_type": "code",
   "execution_count": 2,
   "metadata": {
    "grader_id": "akvhlo9thiq"
   },
   "outputs": [
    {
     "name": "stdout",
     "output_type": "stream",
     "text": [
      "Your code passes all of our tests, nice work!\n"
     ]
    }
   ],
   "source": [
    "# TODO: First import the `random` module\n",
    "import random\n",
    "\n",
    "# We begin with an empty `word_list`\n",
    "word_file = \"words.txt\"\n",
    "word_list = []\n",
    "\n",
    "# We fill up the word_list from the `words.txt` file\n",
    "with open(word_file,'r') as words:\n",
    "    for line in words:\n",
    "        # remove white space and make everything lowercase\n",
    "        word = line.strip().lower()\n",
    "        # don't include words that are too long or too short\n",
    "        if 3 < len(word) < 8:\n",
    "            word_list.append(word)\n",
    "\n",
    "# TODO: Add your function generate_password below\n",
    "def generate_password():\n",
    "    password = []\n",
    "    for i in range(3):\n",
    "        pss_word =random.choice(word_list)\n",
    "        password.append(pss_word)\n",
    "    return ''.join(password)\n",
    "# It should return a string consisting of three random words\n",
    "# concatenated together without spaces\n",
    "\n",
    "# Now we test the function\n",
    "password = generate_password()\n",
    "\n",
    "### Notebook grading\n",
    "pswd1 = generate_password()\n",
    "pswd2 = generate_password()\n",
    "pswd3 = generate_password()\n",
    "\n",
    "def feedback(pswd1, pswd2, pswd3):\n",
    "    fb = \"\"\n",
    "    correct = 0\n",
    "    if (not isinstance(pswd1, str)) or (not isinstance(pswd2, str)) or (not isinstance(pswd3, str)):\n",
    "        fb = \"Try again. Your function does not return a string.\"\n",
    "    elif (not 11<len(pswd1)<22) or (not 11<len(pswd2)<22) or (not 11<len(pswd3)<22):\n",
    "        fb = \"Try again. The password that your function returns is either too short or too long.\"\n",
    "    elif (pswd1==pswd2) or (pswd2==pswd3) or (pswd1 == pswd3):\n",
    "        fb = \"Try again. Your function returns the same passwords when called multiple times.\"\n",
    "    else:\n",
    "        fb = \"Your code passes all of our tests, nice work!\"\n",
    "        correct = 1\n",
    "    return fb, correct\n",
    "fb, correct = feedback(pswd1, pswd2, pswd3)\n",
    "\n",
    "if correct:\n",
    "    print(fb)\n",
    "else:\n",
    "    print(fb)\n"
   ]
  }
 ],
 "metadata": {
  "kernelspec": {
   "display_name": "Python 3",
   "language": "python",
   "name": "python3"
  },
  "language_info": {
   "codemirror_mode": {
    "name": "ipython",
    "version": 3
   },
   "file_extension": ".py",
   "mimetype": "text/x-python",
   "name": "python",
   "nbconvert_exporter": "python",
   "pygments_lexer": "ipython3",
   "version": "3.13.0"
  }
 },
 "nbformat": 4,
 "nbformat_minor": 2
}
