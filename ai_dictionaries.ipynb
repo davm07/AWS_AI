{
 "cells": [
  {
   "cell_type": "markdown",
   "id": "98fba335",
   "metadata": {},
   "source": [
    "## Quiz: Valid Dictionary for AI Model Architectures\n",
    "\n",
    "In this exercise, you will correct an invalid dictionary that maps AI model researchers to their research topics. In Python, dictionary keys must be immutable types, such as strings or tuples. Lists, being mutable, cannot be used as dictionary keys.\n",
    "\n",
    "Here is the invalid dictionary provided:"
   ]
  },
  {
   "cell_type": "code",
   "execution_count": null,
   "id": "5400db09",
   "metadata": {},
   "outputs": [],
   "source": [
    "# invalid dictionary - this should break\n",
    "research_topics = {\n",
    "    ['AlexNet', 'Convolutional Neural Network']: 'Image Classification',\n",
    "    ['VGG', 'Visual Geometry Group']: 'Deep Learning',\n",
    "    ['ResNet', 'Residual Networks']: 'Network Architecture'\n",
    "}\n"
   ]
  },
  {
   "cell_type": "code",
   "execution_count": null,
   "id": "42bff1c5",
   "metadata": {},
   "outputs": [],
   "source": [
    "# corrected dictionary using tuples as keys\n",
    "research_topics = {\n",
    "    ('AlexNet', 'Convolutional Neural Network'): 'Image Classification',\n",
    "    ('VGG', 'Visual Geometry Group'): 'Deep Learning',\n",
    "    ('ResNet', 'Residual Networks'): 'Network Architecture'\n",
    "}\n",
    "\n",
    "# Verify the corrected dictionary\n",
    "print(research_topics)\n"
   ]
  },
  {
   "cell_type": "markdown",
   "id": "bb036926",
   "metadata": {},
   "source": [
    "### Explanation:\n",
    "\n",
    "* In the invalid dictionary, lists are used as keys, which causes an error because lists are mutable and cannot be used as dictionary keys.\n",
    "* The corrected dictionary uses tuples instead of lists for the keys. Tuples are immutable and can be used as dictionary keys."
   ]
  }
 ],
 "metadata": {
  "kernelspec": {
   "display_name": "Python 3",
   "language": "python",
   "name": "python3"
  },
  "language_info": {
   "name": "python",
   "version": "3.13.0"
  }
 },
 "nbformat": 4,
 "nbformat_minor": 5
}
