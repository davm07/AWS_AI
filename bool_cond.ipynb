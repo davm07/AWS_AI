{
 "cells": [
  {
   "cell_type": "markdown",
   "id": "2c74e24f",
   "metadata": {},
   "source": [
    "### Exercise: Performance Level Based on Model Accuracy\n",
    "\n",
    "The code below is the solution to the Evaluating Model Performance quiz you've seen previously. You're going to rewrite this based on what you've learned about truth values.\n",
    "\n",
    "In this exercise, you'll assign performance levels to models based on their accuracy and use the truth value of the performance level to determine the evaluation message.\n",
    "\n",
    "#### Problem Statement\n",
    "\n",
    "Given an accuracy value, assign a performance level based on the following criteria:\n",
    "- 0% - 50%: Poor performance\n",
    "- 51% - 75%: Average performance\n",
    "- 76% - 90%: Good performance\n",
    "- 91% - 100%: Excellent performance\n",
    "\n",
    "Assign the corresponding result message based on the performance level.\n",
    "\n",
    "**Example Input**:\n",
    "```python\n",
    "accuracy = 0.88  # use this as input for your submission\n",
    "```\n",
    "\n",
    "**Instructions**:\n",
    "1. Establish the default performance level to None.\n",
    "2. Use the accuracy value to assign performance levels to the correct performance names.\n",
    "3. Use the truth value of performance level to assign result to the correct message."
   ]
  },
  {
   "cell_type": "code",
   "execution_count": null,
   "id": "29363d4d",
   "metadata": {},
   "outputs": [],
   "source": [
    "accuracy = 0.88  # use this as input for your submission\n",
    "\n",
    "# Establish the default performance level to None\n",
    "performance = None\n",
    "\n",
    "# Use the accuracy value to assign performance levels to the correct performance names\n",
    "if accuracy <= 0.5:\n",
    "    performance = \"Poor performance\"\n",
    "elif accuracy <= 0.75:\n",
    "    performance = \"Average performance\"\n",
    "elif accuracy <= 0.9:\n",
    "    performance = \"Good performance\"\n",
    "else:\n",
    "    performance = \"Excellent performance\"\n",
    "\n",
    "# Use the truth value of performance to assign result to the correct phrase\n",
    "if performance:\n",
    "    result = \"The model has achieved {}.\".format(performance)\n",
    "else:\n",
    "    result = \"Performance level not defined.\"\n",
    "\n",
    "### Notebook grading\n",
    "if result == \"The model has achieved Good performance.\":\n",
    "    print(\"Good work!\")\n",
    "else:\n",
    "    print(\"Not quite! Are your result string formatted correctly?\")"
   ]
  }
 ],
 "metadata": {
  "kernelspec": {
   "display_name": "Python 3",
   "language": "python",
   "name": "python3"
  },
  "language_info": {
   "name": "python",
   "version": "3.13.0"
  }
 },
 "nbformat": 4,
 "nbformat_minor": 5
}
