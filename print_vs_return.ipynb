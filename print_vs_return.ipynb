{
 "cells": [
  {
   "cell_type": "markdown",
   "metadata": {},
   "source": [
    "### Exercise: Displaying and Returning Dataset Sizes\n",
    "#### Scenario:\n",
    "You are developing a utility to handle large datasets for a machine learning project. You need functions to both display and return the size of a dataset after adding a specified increment. This is useful for logging and processing purposes.\n",
    "\n",
    "#### Task:\n",
    "Transform the following code to create functions that display and return the dataset size after adding an increment. Use these functions to handle dataset sizes and log the outputs.\n",
    "\n",
    "This exercise will help you understand the difference between functions that print results directly and those that return values for further processing."
   ]
  },
  {
   "cell_type": "code",
   "execution_count": 2,
   "metadata": {},
   "outputs": [
    {
     "name": "stdout",
     "output_type": "stream",
     "text": [
      "Calling display_new_size...\n",
      "New dataset size after adding 10 GB: 60 GB\n",
      "Done calling\n",
      "This function returned: 60\n",
      "\n",
      "Calling get_new_size...\n",
      "Done calling\n",
      "This function returned: 60 GB\n"
     ]
    }
   ],
   "source": [
    "# This function prints the dataset size after adding the increment, but does not return anything\n",
    "def display_new_size(dataset_size, increment):\n",
    "    new_size = dataset_size + increment\n",
    "    print(f\"New dataset size after adding {increment} GB: {new_size} GB\")\n",
    "    return new_size\n",
    "\n",
    "# This function returns the dataset size after adding the increment\n",
    "def get_new_size(dataset_size, increment):\n",
    "    return dataset_size + increment\n",
    "\n",
    "# Example usage:\n",
    "dataset_size = 50  # in GB\n",
    "increment = 10  # in GB\n",
    "\n",
    "print('Calling display_new_size...')\n",
    "return_value_1 = display_new_size(dataset_size, increment)\n",
    "print('Done calling')\n",
    "print('This function returned: {}'.format(return_value_1))\n",
    "\n",
    "print('\\nCalling get_new_size...')\n",
    "return_value_2 = get_new_size(dataset_size, increment)\n",
    "print('Done calling')\n",
    "print('This function returned: {} GB'.format(return_value_2))"
   ]
  }
 ],
 "metadata": {
  "kernelspec": {
   "display_name": "Python 3",
   "language": "python",
   "name": "python3"
  },
  "language_info": {
   "codemirror_mode": {
    "name": "ipython",
    "version": 3
   },
   "file_extension": ".py",
   "mimetype": "text/x-python",
   "name": "python",
   "nbconvert_exporter": "python",
   "pygments_lexer": "ipython3",
   "version": "3.13.0"
  }
 },
 "nbformat": 4,
 "nbformat_minor": 2
}
